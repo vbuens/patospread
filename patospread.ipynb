{
 "cells": [
  {
   "cell_type": "code",
   "execution_count": null,
   "metadata": {
    "collapsed": false
   },
   "outputs": [],
   "source": [
    "%pylab inline"
   ]
  },
  {
   "cell_type": "code",
   "execution_count": null,
   "metadata": {
    "collapsed": false
   },
   "outputs": [],
   "source": [
    "import scipy\n",
    "import scipy.ndimage"
   ]
  },
  {
   "cell_type": "code",
   "execution_count": null,
   "metadata": {
    "collapsed": false
   },
   "outputs": [],
   "source": [
    "from opensimplex import OpenSimplex"
   ]
  },
  {
   "cell_type": "code",
   "execution_count": null,
   "metadata": {
    "collapsed": true
   },
   "outputs": [],
   "source": [
    "# Generates a cultive field, pass in a \"base field\" and it will assign a new type of cultive\n",
    "# to the areas where the noise_filter parameter passes the test\n",
    "# The category represents the \"id\" of the cultive\n",
    "\n",
    "def gen_cultive(field, noise_generator, noise_freq, noise_filter, category):\n",
    "    for x in range(1,100):\n",
    "        for y in range(1,100):\n",
    "            nv = noise_generator.noise2d(0.06 * x, 0.06 * y)\n",
    "            if nv > noise_filter:\n",
    "                field[x,y] = category\n",
    "    return field"
   ]
  },
  {
   "cell_type": "code",
   "execution_count": null,
   "metadata": {
    "collapsed": true
   },
   "outputs": [],
   "source": [
    "def makeGaussian(size, fwhm = (3., 3.), center=None):\n",
    "    \"\"\" Make a square gaussian kernel.\n",
    "\n",
    "    size is the length of a side of the square\n",
    "    fwhm is full-width-half-maximum, which\n",
    "    can be thought of as an effective radius.\n",
    "    \"\"\"\n",
    "\n",
    "    x = np.arange(0, size, 1, float)\n",
    "    y = x[:,np.newaxis]\n",
    "\n",
    "    if center is None:\n",
    "        x0 = y0 = int(size / 2.)\n",
    "    else:\n",
    "        x0 = center[0]\n",
    "        y0 = center[1]\n",
    "\n",
    "    return np.exp(-4.*np.log(2) * ( ((x-x0)**2 / fwhm[0]) + ((y-y0)**2 / fwhm[1])  ) )"
   ]
  },
  {
   "cell_type": "code",
   "execution_count": null,
   "metadata": {
    "collapsed": false
   },
   "outputs": [],
   "source": [
    "seed = numpy.random.randint(1000)\n",
    "tmp = OpenSimplex(seed=seed)\n",
    "seed2 = numpy.random.randint(1000)\n",
    "tmp2 = OpenSimplex(seed=seed2)"
   ]
  },
  {
   "cell_type": "code",
   "execution_count": null,
   "metadata": {
    "collapsed": false
   },
   "outputs": [],
   "source": [
    "# Generate a cultive map\n",
    "# This is the base cultive, id=1\n",
    "wfield = np.full( (100, 100), 1)\n",
    "\n",
    "# Then another cultive with id=2\n",
    "gen_cultive(wfield, tmp, 0.004, 0.05, 2);\n",
    "\n",
    "# And a final with id=3\n",
    "gen_cultive(wfield, tmp2, 0.0045, 0.25, 3);\n"
   ]
  },
  {
   "cell_type": "code",
   "execution_count": null,
   "metadata": {
    "collapsed": false
   },
   "outputs": [],
   "source": [
    "# Here you can study the frequencies of each type of cultive\n",
    "plt.hist(wfield);"
   ]
  },
  {
   "cell_type": "code",
   "execution_count": null,
   "metadata": {
    "collapsed": false
   },
   "outputs": [],
   "source": [
    "# Random cultive representation map\n",
    "plt.imshow(wfield)"
   ]
  },
  {
   "cell_type": "code",
   "execution_count": null,
   "metadata": {
    "collapsed": false
   },
   "outputs": [],
   "source": [
    "# Here we generate the infectivity distribution\n",
    "\n",
    "# makeGaussian(...) retruns a gaussian of \"infected_range\" size and \\theta_x, \\theta_y are the distribution means\n",
    "\n",
    "# After that we can rotate the gaussian to incorporate the direction of the \"wind\".\n",
    "# theta_x and theta_y have to change according to the x and y magnitude vectors of the wind\n",
    "\n",
    "infection_range = 19\n",
    "theta_x = 95.\n",
    "theta_y = 30.\n",
    "wind_angle = 60.\n",
    "plt.imshow(scipy.ndimage.interpolation.rotate(makeGaussian(infection_range, fwhm=(theta_x, theta_y)), wind_angle))"
   ]
  },
  {
   "cell_type": "code",
   "execution_count": null,
   "metadata": {
    "collapsed": false
   },
   "outputs": [],
   "source": [
    "plt.imshow(scipy.ndimage.interpolation.rotate(makeGaussian(5, fwhm=(20., 9.)), 70))"
   ]
  },
  {
   "cell_type": "code",
   "execution_count": null,
   "metadata": {
    "collapsed": true
   },
   "outputs": [],
   "source": [
    "# Start writing the infection model\n",
    "\n",
    "infected_field = numpy.zeros( (100,100) )\n",
    "\n",
    "# New crop infection rate\n",
    "infection_rate = 0.002\n",
    "\n",
    "# New infection site probability\n",
    "infection_site_rate = 0.08\n",
    "\n",
    "# Array of (x,y) position of initial infection sites, gaussian distributed infection probabilities centered at (x,y)\n",
    "infection_sites = []\n",
    "\n",
    "# Infection range is the size of the gaussian\n",
    "infection_range = 5\n",
    "\n",
    "# Wind direction vector (x,y) the magnitude can be extracted from the coordinates\n",
    "# The wind can change over time and will be used to modify rotate, scale and/or recenter the gaussian distributions\n",
    "wind = (0,0)\n"
   ]
  },
  {
   "cell_type": "code",
   "execution_count": null,
   "metadata": {
    "collapsed": false
   },
   "outputs": [],
   "source": [
    "# You can rerun this step to look at how the pathogen spreads over time\n",
    "for t in range(1,1000):\n",
    "    p = numpy.random.rand()\n",
    "    # The parameters for the gaussian function are to be modified by the wind direction and strength\n",
    "    gaussian = scipy.ndimage.interpolation.rotate(makeGaussian(infection_range, fwhm=(20., 9.)), 70)\n",
    "    \n",
    "    \n",
    "    if p<infection_site_rate:\n",
    "        # Place a new random infection site in the field\n",
    "        infection_sites.append( (numpy.random.randint(wfield.shape[0]), numpy.random.randint(wfield.shape[1])) )\n",
    "    \n",
    "    # For each infection site, increase the \"infectedness\" of the pixel\n",
    "    for infection_site in infection_sites:\n",
    "        for isx in range(-int(infection_range/2), int(infection_range/2)):\n",
    "            # The modulus is to stay within bounds\n",
    "            x = (infection_site[0]+isx) % infected_field.shape[0]\n",
    "            for isy in range(-int(infection_range/2), int(infection_range/2)):\n",
    "                y = (infection_site[1]+isy) % infected_field.shape[1]\n",
    "                infection_prob = gaussian[isx,isy] * 1./wfield[x,y] # Prob * 1./category\n",
    "                infected_field[x][y] += 1 if infection_prob<infection_rate else 0\n",
    "\n",
    "# Clear the infection_sites before doing a new timestep\n",
    "infection_sites=[]\n",
    "plt.imshow(infected_field, alpha=0.9)\n",
    "plt.imshow(wfield, alpha=0.5)"
   ]
  },
  {
   "cell_type": "code",
   "execution_count": null,
   "metadata": {
    "collapsed": false
   },
   "outputs": [],
   "source": [
    "len(infection_sites)"
   ]
  },
  {
   "cell_type": "code",
   "execution_count": null,
   "metadata": {
    "collapsed": true
   },
   "outputs": [],
   "source": []
  }
 ],
 "metadata": {
  "kernelspec": {
   "display_name": "Python 3",
   "language": "python",
   "name": "python3"
  },
  "language_info": {
   "codemirror_mode": {
    "name": "ipython",
    "version": 3
   },
   "file_extension": ".py",
   "mimetype": "text/x-python",
   "name": "python",
   "nbconvert_exporter": "python",
   "pygments_lexer": "ipython3",
   "version": "3.5.2"
  }
 },
 "nbformat": 4,
 "nbformat_minor": 1
}
